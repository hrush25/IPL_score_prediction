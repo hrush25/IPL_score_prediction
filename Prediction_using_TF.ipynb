{
  "nbformat": 4,
  "nbformat_minor": 0,
  "metadata": {
    "kernelspec": {
      "display_name": "Python 3",
      "language": "python",
      "name": "python3"
    },
    "language_info": {
      "codemirror_mode": {
        "name": "ipython",
        "version": 3
      },
      "file_extension": ".py",
      "mimetype": "text/x-python",
      "name": "python",
      "nbconvert_exporter": "python",
      "pygments_lexer": "ipython3",
      "version": "3.7.6"
    },
    "colab": {
      "name": "Prediction using TF.ipynb",
      "provenance": [],
      "toc_visible": true,
      "include_colab_link": true
    }
  },
  "cells": [
    {
      "cell_type": "markdown",
      "metadata": {
        "id": "view-in-github",
        "colab_type": "text"
      },
      "source": [
        "<a href=\"https://colab.research.google.com/github/hrush25/IPL_score_prediction/blob/master/Prediction_using_TF.ipynb\" target=\"_parent\"><img src=\"https://colab.research.google.com/assets/colab-badge.svg\" alt=\"Open In Colab\"/></a>"
      ]
    },
    {
      "cell_type": "code",
      "metadata": {
        "id": "nwKMASOiBm2r"
      },
      "source": [
        "import pandas as pd\n",
        "import numpy as np\n",
        "import matplotlib.pyplot as plt\n",
        "import seaborn as sns\n",
        "from sklearn import preprocessing"
      ],
      "execution_count": 1,
      "outputs": []
    },
    {
      "cell_type": "code",
      "metadata": {
        "id": "3YiKe0TEBm2s"
      },
      "source": [
        "data = pd.read_csv('IPL Player Stats - 2016 till 2019.csv')"
      ],
      "execution_count": 3,
      "outputs": []
    },
    {
      "cell_type": "code",
      "metadata": {
        "colab": {
          "base_uri": "https://localhost:8080/",
          "height": 333
        },
        "id": "Ek_qx_bHBm2t",
        "outputId": "dee653c8-f777-4be5-bbc9-76095b93214d"
      },
      "source": [
        "data.head()"
      ],
      "execution_count": 4,
      "outputs": [
        {
          "output_type": "execute_result",
          "data": {
            "text/html": [
              "<div>\n",
              "<style scoped>\n",
              "    .dataframe tbody tr th:only-of-type {\n",
              "        vertical-align: middle;\n",
              "    }\n",
              "\n",
              "    .dataframe tbody tr th {\n",
              "        vertical-align: top;\n",
              "    }\n",
              "\n",
              "    .dataframe thead th {\n",
              "        text-align: right;\n",
              "    }\n",
              "</style>\n",
              "<table border=\"1\" class=\"dataframe\">\n",
              "  <thead>\n",
              "    <tr style=\"text-align: right;\">\n",
              "      <th></th>\n",
              "      <th>Team</th>\n",
              "      <th>Player</th>\n",
              "      <th>Tournament</th>\n",
              "      <th>Matches</th>\n",
              "      <th>Batting Innings</th>\n",
              "      <th>Not Out</th>\n",
              "      <th>Runds Scored</th>\n",
              "      <th>Highest Score</th>\n",
              "      <th>Batting Average</th>\n",
              "      <th>Balls Faced</th>\n",
              "      <th>Batting Strike Rate</th>\n",
              "      <th>100</th>\n",
              "      <th>50</th>\n",
              "      <th>0</th>\n",
              "      <th>4s</th>\n",
              "      <th>6s</th>\n",
              "      <th>Bowling Innings</th>\n",
              "      <th>Overs Bowled</th>\n",
              "      <th>Maidens Bowled</th>\n",
              "      <th>Runs Conceded</th>\n",
              "      <th>Wickets Taken</th>\n",
              "      <th>Best Bowling Figures</th>\n",
              "      <th>Bowling Average</th>\n",
              "      <th>Bowling Economy Rate</th>\n",
              "      <th>Bowling Strike Rate</th>\n",
              "      <th>4+ Innings Wickets</th>\n",
              "      <th>5+ Innings Wickets</th>\n",
              "      <th>Catches Taken</th>\n",
              "      <th>Stumpings Made</th>\n",
              "    </tr>\n",
              "  </thead>\n",
              "  <tbody>\n",
              "    <tr>\n",
              "      <th>0</th>\n",
              "      <td>Delhi Daredevils</td>\n",
              "      <td>CH Morris</td>\n",
              "      <td>IPL 2016</td>\n",
              "      <td>12</td>\n",
              "      <td>7</td>\n",
              "      <td>4</td>\n",
              "      <td>195</td>\n",
              "      <td>82*</td>\n",
              "      <td>65.00</td>\n",
              "      <td>109</td>\n",
              "      <td>178.89</td>\n",
              "      <td>0</td>\n",
              "      <td>1</td>\n",
              "      <td>1</td>\n",
              "      <td>15</td>\n",
              "      <td>12</td>\n",
              "      <td>12</td>\n",
              "      <td>44.0</td>\n",
              "      <td>0</td>\n",
              "      <td>308</td>\n",
              "      <td>13</td>\n",
              "      <td>2/30</td>\n",
              "      <td>23.69</td>\n",
              "      <td>7.00</td>\n",
              "      <td>20.3</td>\n",
              "      <td>0</td>\n",
              "      <td>0</td>\n",
              "      <td>8</td>\n",
              "      <td>0</td>\n",
              "    </tr>\n",
              "    <tr>\n",
              "      <th>1</th>\n",
              "      <td>Delhi Daredevils</td>\n",
              "      <td>CH Morris</td>\n",
              "      <td>IPL 2017</td>\n",
              "      <td>9</td>\n",
              "      <td>9</td>\n",
              "      <td>4</td>\n",
              "      <td>154</td>\n",
              "      <td>52*</td>\n",
              "      <td>30.80</td>\n",
              "      <td>94</td>\n",
              "      <td>163.82</td>\n",
              "      <td>0</td>\n",
              "      <td>1</td>\n",
              "      <td>0</td>\n",
              "      <td>15</td>\n",
              "      <td>6</td>\n",
              "      <td>9</td>\n",
              "      <td>31.0</td>\n",
              "      <td>0</td>\n",
              "      <td>240</td>\n",
              "      <td>12</td>\n",
              "      <td>4/26</td>\n",
              "      <td>20.00</td>\n",
              "      <td>7.74</td>\n",
              "      <td>15.5</td>\n",
              "      <td>1</td>\n",
              "      <td>0</td>\n",
              "      <td>5</td>\n",
              "      <td>0</td>\n",
              "    </tr>\n",
              "    <tr>\n",
              "      <th>2</th>\n",
              "      <td>Delhi Daredevils</td>\n",
              "      <td>CH Morris</td>\n",
              "      <td>IPL 2018</td>\n",
              "      <td>4</td>\n",
              "      <td>4</td>\n",
              "      <td>3</td>\n",
              "      <td>46</td>\n",
              "      <td>27*</td>\n",
              "      <td>46.00</td>\n",
              "      <td>26</td>\n",
              "      <td>176.92</td>\n",
              "      <td>0</td>\n",
              "      <td>0</td>\n",
              "      <td>0</td>\n",
              "      <td>3</td>\n",
              "      <td>2</td>\n",
              "      <td>4</td>\n",
              "      <td>14.0</td>\n",
              "      <td>0</td>\n",
              "      <td>143</td>\n",
              "      <td>3</td>\n",
              "      <td>2/41</td>\n",
              "      <td>47.66</td>\n",
              "      <td>10.21</td>\n",
              "      <td>28.0</td>\n",
              "      <td>0</td>\n",
              "      <td>0</td>\n",
              "      <td>2</td>\n",
              "      <td>0</td>\n",
              "    </tr>\n",
              "    <tr>\n",
              "      <th>3</th>\n",
              "      <td>Delhi Daredevils</td>\n",
              "      <td>JP Duminy</td>\n",
              "      <td>IPL 2016</td>\n",
              "      <td>10</td>\n",
              "      <td>8</td>\n",
              "      <td>3</td>\n",
              "      <td>191</td>\n",
              "      <td>49*</td>\n",
              "      <td>38.20</td>\n",
              "      <td>156</td>\n",
              "      <td>122.43</td>\n",
              "      <td>0</td>\n",
              "      <td>0</td>\n",
              "      <td>0</td>\n",
              "      <td>13</td>\n",
              "      <td>3</td>\n",
              "      <td>5</td>\n",
              "      <td>7.0</td>\n",
              "      <td>0</td>\n",
              "      <td>55</td>\n",
              "      <td>2</td>\n",
              "      <td>1/4</td>\n",
              "      <td>27.50</td>\n",
              "      <td>7.85</td>\n",
              "      <td>21.0</td>\n",
              "      <td>0</td>\n",
              "      <td>0</td>\n",
              "      <td>3</td>\n",
              "      <td>0</td>\n",
              "    </tr>\n",
              "    <tr>\n",
              "      <th>4</th>\n",
              "      <td>Delhi Daredevils</td>\n",
              "      <td>Q de Kock</td>\n",
              "      <td>IPL 2016</td>\n",
              "      <td>13</td>\n",
              "      <td>13</td>\n",
              "      <td>1</td>\n",
              "      <td>445</td>\n",
              "      <td>108</td>\n",
              "      <td>37.08</td>\n",
              "      <td>327</td>\n",
              "      <td>136.08</td>\n",
              "      <td>1</td>\n",
              "      <td>3</td>\n",
              "      <td>0</td>\n",
              "      <td>52</td>\n",
              "      <td>13</td>\n",
              "      <td>-</td>\n",
              "      <td>-</td>\n",
              "      <td>-</td>\n",
              "      <td>-</td>\n",
              "      <td>-</td>\n",
              "      <td>-</td>\n",
              "      <td>-</td>\n",
              "      <td>-</td>\n",
              "      <td>-</td>\n",
              "      <td>-</td>\n",
              "      <td>-</td>\n",
              "      <td>2</td>\n",
              "      <td>2</td>\n",
              "    </tr>\n",
              "  </tbody>\n",
              "</table>\n",
              "</div>"
            ],
            "text/plain": [
              "               Team     Player  ... Catches Taken  Stumpings Made\n",
              "0  Delhi Daredevils  CH Morris  ...             8               0\n",
              "1  Delhi Daredevils  CH Morris  ...             5               0\n",
              "2  Delhi Daredevils  CH Morris  ...             2               0\n",
              "3  Delhi Daredevils  JP Duminy  ...             3               0\n",
              "4  Delhi Daredevils  Q de Kock  ...             2               2\n",
              "\n",
              "[5 rows x 29 columns]"
            ]
          },
          "metadata": {
            "tags": []
          },
          "execution_count": 4
        }
      ]
    },
    {
      "cell_type": "code",
      "metadata": {
        "colab": {
          "base_uri": "https://localhost:8080/"
        },
        "id": "Drugh563Bm2u",
        "outputId": "204746cd-fcbf-438c-ed81-2e60e0256b08"
      },
      "source": [
        "data.info()"
      ],
      "execution_count": 5,
      "outputs": [
        {
          "output_type": "stream",
          "text": [
            "<class 'pandas.core.frame.DataFrame'>\n",
            "RangeIndex: 631 entries, 0 to 630\n",
            "Data columns (total 29 columns):\n",
            " #   Column                Non-Null Count  Dtype \n",
            "---  ------                --------------  ----- \n",
            " 0   Team                  631 non-null    object\n",
            " 1   Player                631 non-null    object\n",
            " 2   Tournament            631 non-null    object\n",
            " 3   Matches               631 non-null    int64 \n",
            " 4   Batting Innings       631 non-null    object\n",
            " 5   Not Out               631 non-null    object\n",
            " 6   Runds Scored          631 non-null    object\n",
            " 7   Highest Score         631 non-null    object\n",
            " 8   Batting Average       631 non-null    object\n",
            " 9   Balls Faced           631 non-null    object\n",
            " 10  Batting Strike Rate   631 non-null    object\n",
            " 11  100                   631 non-null    object\n",
            " 12  50                    631 non-null    object\n",
            " 13  0                     631 non-null    object\n",
            " 14  4s                    631 non-null    object\n",
            " 15  6s                    631 non-null    object\n",
            " 16  Bowling Innings       631 non-null    object\n",
            " 17  Overs Bowled          631 non-null    object\n",
            " 18  Maidens Bowled        631 non-null    object\n",
            " 19  Runs Conceded         631 non-null    object\n",
            " 20  Wickets Taken         631 non-null    object\n",
            " 21  Best Bowling Figures  631 non-null    object\n",
            " 22  Bowling Average       631 non-null    object\n",
            " 23  Bowling Economy Rate  631 non-null    object\n",
            " 24  Bowling Strike Rate   631 non-null    object\n",
            " 25  4+ Innings Wickets    631 non-null    object\n",
            " 26  5+ Innings Wickets    631 non-null    object\n",
            " 27  Catches Taken         631 non-null    int64 \n",
            " 28  Stumpings Made        631 non-null    int64 \n",
            "dtypes: int64(3), object(26)\n",
            "memory usage: 143.1+ KB\n"
          ],
          "name": "stdout"
        }
      ]
    },
    {
      "cell_type": "code",
      "metadata": {
        "id": "QWNpEYwBBm2u"
      },
      "source": [
        "ipl = pd.read_csv('0y clean data pre ipl.csv')"
      ],
      "execution_count": 7,
      "outputs": []
    },
    {
      "cell_type": "code",
      "metadata": {
        "colab": {
          "base_uri": "https://localhost:8080/",
          "height": 400
        },
        "id": "fmagfwwoBm2v",
        "outputId": "a9965db4-a7f9-49ba-eed4-e7658e3e65c9"
      },
      "source": [
        "ipl.head()"
      ],
      "execution_count": 8,
      "outputs": [
        {
          "output_type": "execute_result",
          "data": {
            "text/html": [
              "<div>\n",
              "<style scoped>\n",
              "    .dataframe tbody tr th:only-of-type {\n",
              "        vertical-align: middle;\n",
              "    }\n",
              "\n",
              "    .dataframe tbody tr th {\n",
              "        vertical-align: top;\n",
              "    }\n",
              "\n",
              "    .dataframe thead th {\n",
              "        text-align: right;\n",
              "    }\n",
              "</style>\n",
              "<table border=\"1\" class=\"dataframe\">\n",
              "  <thead>\n",
              "    <tr style=\"text-align: right;\">\n",
              "      <th></th>\n",
              "      <th>Unnamed: 0</th>\n",
              "      <th>match_id</th>\n",
              "      <th>venue</th>\n",
              "      <th>innings</th>\n",
              "      <th>ball</th>\n",
              "      <th>batting_team</th>\n",
              "      <th>bowling_team</th>\n",
              "      <th>striker</th>\n",
              "      <th>non_striker</th>\n",
              "      <th>bowler</th>\n",
              "      <th>runs_off_bat</th>\n",
              "      <th>extras</th>\n",
              "      <th>wicket_type</th>\n",
              "      <th>player_dismissed</th>\n",
              "      <th>run</th>\n",
              "      <th>wickets</th>\n",
              "      <th>truns</th>\n",
              "      <th>y</th>\n",
              "    </tr>\n",
              "  </thead>\n",
              "  <tbody>\n",
              "    <tr>\n",
              "      <th>0</th>\n",
              "      <td>0</td>\n",
              "      <td>335982</td>\n",
              "      <td>M Chinnaswamy Stadium</td>\n",
              "      <td>1</td>\n",
              "      <td>0.1</td>\n",
              "      <td>Kolkata Knight Riders</td>\n",
              "      <td>Royal Challengers Bangalore</td>\n",
              "      <td>SC Ganguly</td>\n",
              "      <td>BB McCullum</td>\n",
              "      <td>P Kumar</td>\n",
              "      <td>0.0</td>\n",
              "      <td>1.0</td>\n",
              "      <td></td>\n",
              "      <td></td>\n",
              "      <td>1.0</td>\n",
              "      <td>0.0</td>\n",
              "      <td>1.0</td>\n",
              "      <td>68.0</td>\n",
              "    </tr>\n",
              "    <tr>\n",
              "      <th>1</th>\n",
              "      <td>1</td>\n",
              "      <td>335982</td>\n",
              "      <td>M Chinnaswamy Stadium</td>\n",
              "      <td>1</td>\n",
              "      <td>0.2</td>\n",
              "      <td>Kolkata Knight Riders</td>\n",
              "      <td>Royal Challengers Bangalore</td>\n",
              "      <td>BB McCullum</td>\n",
              "      <td>SC Ganguly</td>\n",
              "      <td>P Kumar</td>\n",
              "      <td>0.0</td>\n",
              "      <td>0.0</td>\n",
              "      <td></td>\n",
              "      <td></td>\n",
              "      <td>0.0</td>\n",
              "      <td>0.0</td>\n",
              "      <td>1.0</td>\n",
              "      <td>68.0</td>\n",
              "    </tr>\n",
              "    <tr>\n",
              "      <th>2</th>\n",
              "      <td>2</td>\n",
              "      <td>335982</td>\n",
              "      <td>M Chinnaswamy Stadium</td>\n",
              "      <td>1</td>\n",
              "      <td>0.3</td>\n",
              "      <td>Kolkata Knight Riders</td>\n",
              "      <td>Royal Challengers Bangalore</td>\n",
              "      <td>BB McCullum</td>\n",
              "      <td>SC Ganguly</td>\n",
              "      <td>P Kumar</td>\n",
              "      <td>0.0</td>\n",
              "      <td>1.0</td>\n",
              "      <td></td>\n",
              "      <td></td>\n",
              "      <td>1.0</td>\n",
              "      <td>0.0</td>\n",
              "      <td>2.0</td>\n",
              "      <td>68.0</td>\n",
              "    </tr>\n",
              "    <tr>\n",
              "      <th>3</th>\n",
              "      <td>3</td>\n",
              "      <td>335982</td>\n",
              "      <td>M Chinnaswamy Stadium</td>\n",
              "      <td>1</td>\n",
              "      <td>0.4</td>\n",
              "      <td>Kolkata Knight Riders</td>\n",
              "      <td>Royal Challengers Bangalore</td>\n",
              "      <td>BB McCullum</td>\n",
              "      <td>SC Ganguly</td>\n",
              "      <td>P Kumar</td>\n",
              "      <td>0.0</td>\n",
              "      <td>0.0</td>\n",
              "      <td></td>\n",
              "      <td></td>\n",
              "      <td>0.0</td>\n",
              "      <td>0.0</td>\n",
              "      <td>2.0</td>\n",
              "      <td>68.0</td>\n",
              "    </tr>\n",
              "    <tr>\n",
              "      <th>4</th>\n",
              "      <td>4</td>\n",
              "      <td>335982</td>\n",
              "      <td>M Chinnaswamy Stadium</td>\n",
              "      <td>1</td>\n",
              "      <td>0.5</td>\n",
              "      <td>Kolkata Knight Riders</td>\n",
              "      <td>Royal Challengers Bangalore</td>\n",
              "      <td>BB McCullum</td>\n",
              "      <td>SC Ganguly</td>\n",
              "      <td>P Kumar</td>\n",
              "      <td>0.0</td>\n",
              "      <td>0.0</td>\n",
              "      <td></td>\n",
              "      <td></td>\n",
              "      <td>0.0</td>\n",
              "      <td>0.0</td>\n",
              "      <td>2.0</td>\n",
              "      <td>68.0</td>\n",
              "    </tr>\n",
              "  </tbody>\n",
              "</table>\n",
              "</div>"
            ],
            "text/plain": [
              "   Unnamed: 0  match_id                  venue  ...  wickets  truns     y\n",
              "0           0    335982  M Chinnaswamy Stadium  ...      0.0    1.0  68.0\n",
              "1           1    335982  M Chinnaswamy Stadium  ...      0.0    1.0  68.0\n",
              "2           2    335982  M Chinnaswamy Stadium  ...      0.0    2.0  68.0\n",
              "3           3    335982  M Chinnaswamy Stadium  ...      0.0    2.0  68.0\n",
              "4           4    335982  M Chinnaswamy Stadium  ...      0.0    2.0  68.0\n",
              "\n",
              "[5 rows x 18 columns]"
            ]
          },
          "metadata": {
            "tags": []
          },
          "execution_count": 8
        }
      ]
    },
    {
      "cell_type": "code",
      "metadata": {
        "colab": {
          "base_uri": "https://localhost:8080/"
        },
        "id": "k1QEFFVTBm2v",
        "outputId": "12ecc81e-352c-455c-cd98-0eb601d5c6e4"
      },
      "source": [
        "data['Player'].unique().shape"
      ],
      "execution_count": 9,
      "outputs": [
        {
          "output_type": "execute_result",
          "data": {
            "text/plain": [
              "(268,)"
            ]
          },
          "metadata": {
            "tags": []
          },
          "execution_count": 9
        }
      ]
    },
    {
      "cell_type": "code",
      "metadata": {
        "colab": {
          "base_uri": "https://localhost:8080/"
        },
        "id": "3ax30eKJBm2w",
        "outputId": "ff872d82-a561-4220-8536-3639d11205d9"
      },
      "source": [
        "ipl['striker'].unique().shape"
      ],
      "execution_count": 10,
      "outputs": [
        {
          "output_type": "execute_result",
          "data": {
            "text/plain": [
              "(235,)"
            ]
          },
          "metadata": {
            "tags": []
          },
          "execution_count": 10
        }
      ]
    },
    {
      "cell_type": "code",
      "metadata": {
        "id": "8S7NErRQBm2w"
      },
      "source": [
        "new_ipl = pd.merge(ipl,data,left_on='striker',right_on='Player')"
      ],
      "execution_count": 12,
      "outputs": []
    },
    {
      "cell_type": "code",
      "metadata": {
        "id": "MvnJeJMbBm2w"
      },
      "source": [
        "new_ipl.drop(['wicket_type', 'player_dismissed','Unnamed: 0','match_id'],axis=1,inplace=True)"
      ],
      "execution_count": 13,
      "outputs": []
    },
    {
      "cell_type": "code",
      "metadata": {
        "id": "U8UDrSvbBm2w",
        "outputId": "5f845413-eff6-4bd8-b68c-aeba50bdbbeb"
      },
      "source": [
        "new_ipl.head()"
      ],
      "execution_count": null,
      "outputs": [
        {
          "output_type": "execute_result",
          "data": {
            "text/html": [
              "<div>\n",
              "<style scoped>\n",
              "    .dataframe tbody tr th:only-of-type {\n",
              "        vertical-align: middle;\n",
              "    }\n",
              "\n",
              "    .dataframe tbody tr th {\n",
              "        vertical-align: top;\n",
              "    }\n",
              "\n",
              "    .dataframe thead th {\n",
              "        text-align: right;\n",
              "    }\n",
              "</style>\n",
              "<table border=\"1\" class=\"dataframe\">\n",
              "  <thead>\n",
              "    <tr style=\"text-align: right;\">\n",
              "      <th></th>\n",
              "      <th>venue</th>\n",
              "      <th>innings</th>\n",
              "      <th>ball</th>\n",
              "      <th>batting_team</th>\n",
              "      <th>bowling_team</th>\n",
              "      <th>striker</th>\n",
              "      <th>non_striker</th>\n",
              "      <th>bowler</th>\n",
              "      <th>runs_off_bat</th>\n",
              "      <th>extras</th>\n",
              "      <th>...</th>\n",
              "      <th>Runs Conceded</th>\n",
              "      <th>Wickets Taken</th>\n",
              "      <th>Best Bowling Figures</th>\n",
              "      <th>Bowling Average</th>\n",
              "      <th>Bowling Economy Rate</th>\n",
              "      <th>Bowling Strike Rate</th>\n",
              "      <th>4+ Innings Wickets</th>\n",
              "      <th>5+ Innings Wickets</th>\n",
              "      <th>Catches Taken</th>\n",
              "      <th>Stumpings Made</th>\n",
              "    </tr>\n",
              "  </thead>\n",
              "  <tbody>\n",
              "    <tr>\n",
              "      <th>0</th>\n",
              "      <td>M Chinnaswamy Stadium</td>\n",
              "      <td>1</td>\n",
              "      <td>0.2</td>\n",
              "      <td>Kolkata Knight Riders</td>\n",
              "      <td>Royal Challengers Bangalore</td>\n",
              "      <td>BB McCullum</td>\n",
              "      <td>SC Ganguly</td>\n",
              "      <td>P Kumar</td>\n",
              "      <td>0.0</td>\n",
              "      <td>0.0</td>\n",
              "      <td>...</td>\n",
              "      <td>-</td>\n",
              "      <td>-</td>\n",
              "      <td>-</td>\n",
              "      <td>-</td>\n",
              "      <td>-</td>\n",
              "      <td>-</td>\n",
              "      <td>-</td>\n",
              "      <td>-</td>\n",
              "      <td>1</td>\n",
              "      <td>0</td>\n",
              "    </tr>\n",
              "    <tr>\n",
              "      <th>1</th>\n",
              "      <td>M Chinnaswamy Stadium</td>\n",
              "      <td>1</td>\n",
              "      <td>0.2</td>\n",
              "      <td>Kolkata Knight Riders</td>\n",
              "      <td>Royal Challengers Bangalore</td>\n",
              "      <td>BB McCullum</td>\n",
              "      <td>SC Ganguly</td>\n",
              "      <td>P Kumar</td>\n",
              "      <td>0.0</td>\n",
              "      <td>0.0</td>\n",
              "      <td>...</td>\n",
              "      <td>-</td>\n",
              "      <td>-</td>\n",
              "      <td>-</td>\n",
              "      <td>-</td>\n",
              "      <td>-</td>\n",
              "      <td>-</td>\n",
              "      <td>-</td>\n",
              "      <td>-</td>\n",
              "      <td>0</td>\n",
              "      <td>0</td>\n",
              "    </tr>\n",
              "    <tr>\n",
              "      <th>2</th>\n",
              "      <td>M Chinnaswamy Stadium</td>\n",
              "      <td>1</td>\n",
              "      <td>0.2</td>\n",
              "      <td>Kolkata Knight Riders</td>\n",
              "      <td>Royal Challengers Bangalore</td>\n",
              "      <td>BB McCullum</td>\n",
              "      <td>SC Ganguly</td>\n",
              "      <td>P Kumar</td>\n",
              "      <td>0.0</td>\n",
              "      <td>0.0</td>\n",
              "      <td>...</td>\n",
              "      <td>-</td>\n",
              "      <td>-</td>\n",
              "      <td>-</td>\n",
              "      <td>-</td>\n",
              "      <td>-</td>\n",
              "      <td>-</td>\n",
              "      <td>-</td>\n",
              "      <td>-</td>\n",
              "      <td>8</td>\n",
              "      <td>0</td>\n",
              "    </tr>\n",
              "    <tr>\n",
              "      <th>3</th>\n",
              "      <td>M Chinnaswamy Stadium</td>\n",
              "      <td>1</td>\n",
              "      <td>0.3</td>\n",
              "      <td>Kolkata Knight Riders</td>\n",
              "      <td>Royal Challengers Bangalore</td>\n",
              "      <td>BB McCullum</td>\n",
              "      <td>SC Ganguly</td>\n",
              "      <td>P Kumar</td>\n",
              "      <td>0.0</td>\n",
              "      <td>1.0</td>\n",
              "      <td>...</td>\n",
              "      <td>-</td>\n",
              "      <td>-</td>\n",
              "      <td>-</td>\n",
              "      <td>-</td>\n",
              "      <td>-</td>\n",
              "      <td>-</td>\n",
              "      <td>-</td>\n",
              "      <td>-</td>\n",
              "      <td>1</td>\n",
              "      <td>0</td>\n",
              "    </tr>\n",
              "    <tr>\n",
              "      <th>4</th>\n",
              "      <td>M Chinnaswamy Stadium</td>\n",
              "      <td>1</td>\n",
              "      <td>0.3</td>\n",
              "      <td>Kolkata Knight Riders</td>\n",
              "      <td>Royal Challengers Bangalore</td>\n",
              "      <td>BB McCullum</td>\n",
              "      <td>SC Ganguly</td>\n",
              "      <td>P Kumar</td>\n",
              "      <td>0.0</td>\n",
              "      <td>1.0</td>\n",
              "      <td>...</td>\n",
              "      <td>-</td>\n",
              "      <td>-</td>\n",
              "      <td>-</td>\n",
              "      <td>-</td>\n",
              "      <td>-</td>\n",
              "      <td>-</td>\n",
              "      <td>-</td>\n",
              "      <td>-</td>\n",
              "      <td>0</td>\n",
              "      <td>0</td>\n",
              "    </tr>\n",
              "  </tbody>\n",
              "</table>\n",
              "<p>5 rows × 43 columns</p>\n",
              "</div>"
            ],
            "text/plain": [
              "                   venue  innings  ball           batting_team  \\\n",
              "0  M Chinnaswamy Stadium        1   0.2  Kolkata Knight Riders   \n",
              "1  M Chinnaswamy Stadium        1   0.2  Kolkata Knight Riders   \n",
              "2  M Chinnaswamy Stadium        1   0.2  Kolkata Knight Riders   \n",
              "3  M Chinnaswamy Stadium        1   0.3  Kolkata Knight Riders   \n",
              "4  M Chinnaswamy Stadium        1   0.3  Kolkata Knight Riders   \n",
              "\n",
              "                  bowling_team      striker non_striker   bowler  \\\n",
              "0  Royal Challengers Bangalore  BB McCullum  SC Ganguly  P Kumar   \n",
              "1  Royal Challengers Bangalore  BB McCullum  SC Ganguly  P Kumar   \n",
              "2  Royal Challengers Bangalore  BB McCullum  SC Ganguly  P Kumar   \n",
              "3  Royal Challengers Bangalore  BB McCullum  SC Ganguly  P Kumar   \n",
              "4  Royal Challengers Bangalore  BB McCullum  SC Ganguly  P Kumar   \n",
              "\n",
              "   runs_off_bat  extras  ...  Runs Conceded  Wickets Taken  \\\n",
              "0           0.0     0.0  ...              -              -   \n",
              "1           0.0     0.0  ...              -              -   \n",
              "2           0.0     0.0  ...              -              -   \n",
              "3           0.0     1.0  ...              -              -   \n",
              "4           0.0     1.0  ...              -              -   \n",
              "\n",
              "   Best Bowling Figures  Bowling Average Bowling Economy Rate  \\\n",
              "0                     -                -                    -   \n",
              "1                     -                -                    -   \n",
              "2                     -                -                    -   \n",
              "3                     -                -                    -   \n",
              "4                     -                -                    -   \n",
              "\n",
              "  Bowling Strike Rate 4+ Innings Wickets  5+ Innings Wickets Catches Taken  \\\n",
              "0                   -                  -                   -             1   \n",
              "1                   -                  -                   -             0   \n",
              "2                   -                  -                   -             8   \n",
              "3                   -                  -                   -             1   \n",
              "4                   -                  -                   -             0   \n",
              "\n",
              "  Stumpings Made  \n",
              "0              0  \n",
              "1              0  \n",
              "2              0  \n",
              "3              0  \n",
              "4              0  \n",
              "\n",
              "[5 rows x 43 columns]"
            ]
          },
          "metadata": {
            "tags": []
          },
          "execution_count": 12
        }
      ]
    },
    {
      "cell_type": "code",
      "metadata": {
        "colab": {
          "base_uri": "https://localhost:8080/"
        },
        "id": "hHtfWZTrBm2x",
        "outputId": "c9de1d1f-8ea4-4a55-ceef-c95c1d4dfce0"
      },
      "source": [
        "new_ipl.columns"
      ],
      "execution_count": 14,
      "outputs": [
        {
          "output_type": "execute_result",
          "data": {
            "text/plain": [
              "Index(['venue', 'innings', 'ball', 'batting_team', 'bowling_team', 'striker',\n",
              "       'non_striker', 'bowler', 'runs_off_bat', 'extras', 'run', 'wickets',\n",
              "       'truns', 'y', 'Team', 'Player', 'Tournament', 'Matches',\n",
              "       'Batting Innings', 'Not Out', 'Runds Scored', 'Highest Score',\n",
              "       'Batting Average', 'Balls Faced', 'Batting Strike Rate', '100', '50',\n",
              "       '0', '4s', '6s', 'Bowling Innings', 'Overs Bowled', 'Maidens Bowled',\n",
              "       'Runs Conceded', 'Wickets Taken', 'Best Bowling Figures',\n",
              "       'Bowling Average', 'Bowling Economy Rate', 'Bowling Strike Rate',\n",
              "       '4+ Innings Wickets', '5+ Innings Wickets', 'Catches Taken',\n",
              "       'Stumpings Made'],\n",
              "      dtype='object')"
            ]
          },
          "metadata": {
            "tags": []
          },
          "execution_count": 14
        }
      ]
    },
    {
      "cell_type": "markdown",
      "metadata": {
        "id": "Wu8vecucBm2x"
      },
      "source": [
        "### Label encoded all the categorical data"
      ]
    },
    {
      "cell_type": "code",
      "metadata": {
        "colab": {
          "base_uri": "https://localhost:8080/"
        },
        "id": "MRXFdNV7Bm2x",
        "outputId": "2903934e-895e-48d3-85dd-f4aefcc0a3db"
      },
      "source": [
        "listf = []\n",
        "for c in new_ipl.columns:\n",
        "    if new_ipl[c].dtype==object:\n",
        "        print(c,\"->\" ,new_ipl[c].dtype)\n",
        "        listf.append(c)"
      ],
      "execution_count": 16,
      "outputs": [
        {
          "output_type": "stream",
          "text": [
            "venue -> object\n",
            "batting_team -> object\n",
            "bowling_team -> object\n",
            "striker -> object\n",
            "non_striker -> object\n",
            "bowler -> object\n",
            "Team -> object\n",
            "Player -> object\n",
            "Tournament -> object\n",
            "Batting Innings -> object\n",
            "Not Out -> object\n",
            "Runds Scored -> object\n",
            "Highest Score -> object\n",
            "Batting Average -> object\n",
            "Balls Faced -> object\n",
            "Batting Strike Rate -> object\n",
            "100 -> object\n",
            "50 -> object\n",
            "0 -> object\n",
            "4s -> object\n",
            "6s -> object\n",
            "Bowling Innings -> object\n",
            "Overs Bowled -> object\n",
            "Maidens Bowled -> object\n",
            "Runs Conceded -> object\n",
            "Wickets Taken -> object\n",
            "Best Bowling Figures -> object\n",
            "Bowling Average -> object\n",
            "Bowling Economy Rate -> object\n",
            "Bowling Strike Rate -> object\n",
            "4+ Innings Wickets -> object\n",
            "5+ Innings Wickets -> object\n"
          ],
          "name": "stdout"
        }
      ]
    },
    {
      "cell_type": "code",
      "metadata": {
        "colab": {
          "base_uri": "https://localhost:8080/",
          "height": 993
        },
        "id": "uudL17zhBm2y",
        "outputId": "f9b569f3-535d-4f02-c8ee-a93aef49ed09"
      },
      "source": [
        "def labelEncoding(data):\n",
        "    dataset = pd.DataFrame(new_ipl)\n",
        "    feature_dict ={}\n",
        "    #features={}\n",
        "    for feature in dataset:\n",
        "        if dataset[feature].dtype==object:\n",
        "            le = preprocessing.LabelEncoder()\n",
        "            fs = dataset[feature].unique()\n",
        "            le.fit(fs)\n",
        "            dataset[feature] = le.transform(dataset[feature])\n",
        "            feature_dict[feature] = le\n",
        "            print(feature)\n",
        "    return dataset\n",
        "\n",
        "labelEncoding(new_ipl)"
      ],
      "execution_count": 17,
      "outputs": [
        {
          "output_type": "stream",
          "text": [
            "venue\n",
            "batting_team\n",
            "bowling_team\n",
            "striker\n",
            "non_striker\n",
            "bowler\n",
            "Team\n",
            "Player\n",
            "Tournament\n",
            "Batting Innings\n",
            "Not Out\n",
            "Runds Scored\n",
            "Highest Score\n",
            "Batting Average\n",
            "Balls Faced\n",
            "Batting Strike Rate\n",
            "100\n",
            "50\n",
            "0\n",
            "4s\n",
            "6s\n",
            "Bowling Innings\n",
            "Overs Bowled\n",
            "Maidens Bowled\n",
            "Runs Conceded\n",
            "Wickets Taken\n",
            "Best Bowling Figures\n",
            "Bowling Average\n",
            "Bowling Economy Rate\n",
            "Bowling Strike Rate\n",
            "4+ Innings Wickets\n",
            "5+ Innings Wickets\n"
          ],
          "name": "stdout"
        },
        {
          "output_type": "execute_result",
          "data": {
            "text/html": [
              "<div>\n",
              "<style scoped>\n",
              "    .dataframe tbody tr th:only-of-type {\n",
              "        vertical-align: middle;\n",
              "    }\n",
              "\n",
              "    .dataframe tbody tr th {\n",
              "        vertical-align: top;\n",
              "    }\n",
              "\n",
              "    .dataframe thead th {\n",
              "        text-align: right;\n",
              "    }\n",
              "</style>\n",
              "<table border=\"1\" class=\"dataframe\">\n",
              "  <thead>\n",
              "    <tr style=\"text-align: right;\">\n",
              "      <th></th>\n",
              "      <th>venue</th>\n",
              "      <th>innings</th>\n",
              "      <th>ball</th>\n",
              "      <th>batting_team</th>\n",
              "      <th>bowling_team</th>\n",
              "      <th>striker</th>\n",
              "      <th>non_striker</th>\n",
              "      <th>bowler</th>\n",
              "      <th>runs_off_bat</th>\n",
              "      <th>extras</th>\n",
              "      <th>run</th>\n",
              "      <th>wickets</th>\n",
              "      <th>truns</th>\n",
              "      <th>y</th>\n",
              "      <th>Team</th>\n",
              "      <th>Player</th>\n",
              "      <th>Tournament</th>\n",
              "      <th>Matches</th>\n",
              "      <th>Batting Innings</th>\n",
              "      <th>Not Out</th>\n",
              "      <th>Runds Scored</th>\n",
              "      <th>Highest Score</th>\n",
              "      <th>Batting Average</th>\n",
              "      <th>Balls Faced</th>\n",
              "      <th>Batting Strike Rate</th>\n",
              "      <th>100</th>\n",
              "      <th>50</th>\n",
              "      <th>0</th>\n",
              "      <th>4s</th>\n",
              "      <th>6s</th>\n",
              "      <th>Bowling Innings</th>\n",
              "      <th>Overs Bowled</th>\n",
              "      <th>Maidens Bowled</th>\n",
              "      <th>Runs Conceded</th>\n",
              "      <th>Wickets Taken</th>\n",
              "      <th>Best Bowling Figures</th>\n",
              "      <th>Bowling Average</th>\n",
              "      <th>Bowling Economy Rate</th>\n",
              "      <th>Bowling Strike Rate</th>\n",
              "      <th>4+ Innings Wickets</th>\n",
              "      <th>5+ Innings Wickets</th>\n",
              "      <th>Catches Taken</th>\n",
              "      <th>Stumpings Made</th>\n",
              "    </tr>\n",
              "  </thead>\n",
              "  <tbody>\n",
              "    <tr>\n",
              "      <th>0</th>\n",
              "      <td>15</td>\n",
              "      <td>1</td>\n",
              "      <td>0.2</td>\n",
              "      <td>7</td>\n",
              "      <td>13</td>\n",
              "      <td>13</td>\n",
              "      <td>164</td>\n",
              "      <td>197</td>\n",
              "      <td>0.0</td>\n",
              "      <td>0.0</td>\n",
              "      <td>0.0</td>\n",
              "      <td>0.0</td>\n",
              "      <td>1.0</td>\n",
              "      <td>68.0</td>\n",
              "      <td>10</td>\n",
              "      <td>13</td>\n",
              "      <td>2</td>\n",
              "      <td>6</td>\n",
              "      <td>14</td>\n",
              "      <td>1</td>\n",
              "      <td>20</td>\n",
              "      <td>76</td>\n",
              "      <td>66</td>\n",
              "      <td>219</td>\n",
              "      <td>186</td>\n",
              "      <td>1</td>\n",
              "      <td>1</td>\n",
              "      <td>2</td>\n",
              "      <td>9</td>\n",
              "      <td>35</td>\n",
              "      <td>0</td>\n",
              "      <td>0</td>\n",
              "      <td>0</td>\n",
              "      <td>0</td>\n",
              "      <td>0</td>\n",
              "      <td>0</td>\n",
              "      <td>0</td>\n",
              "      <td>0</td>\n",
              "      <td>0</td>\n",
              "      <td>0</td>\n",
              "      <td>0</td>\n",
              "      <td>1</td>\n",
              "      <td>0</td>\n",
              "    </tr>\n",
              "    <tr>\n",
              "      <th>1</th>\n",
              "      <td>15</td>\n",
              "      <td>1</td>\n",
              "      <td>0.2</td>\n",
              "      <td>7</td>\n",
              "      <td>13</td>\n",
              "      <td>13</td>\n",
              "      <td>164</td>\n",
              "      <td>197</td>\n",
              "      <td>0.0</td>\n",
              "      <td>0.0</td>\n",
              "      <td>0.0</td>\n",
              "      <td>0.0</td>\n",
              "      <td>1.0</td>\n",
              "      <td>68.0</td>\n",
              "      <td>3</td>\n",
              "      <td>13</td>\n",
              "      <td>0</td>\n",
              "      <td>16</td>\n",
              "      <td>8</td>\n",
              "      <td>1</td>\n",
              "      <td>137</td>\n",
              "      <td>104</td>\n",
              "      <td>75</td>\n",
              "      <td>104</td>\n",
              "      <td>136</td>\n",
              "      <td>1</td>\n",
              "      <td>2</td>\n",
              "      <td>2</td>\n",
              "      <td>33</td>\n",
              "      <td>9</td>\n",
              "      <td>0</td>\n",
              "      <td>0</td>\n",
              "      <td>0</td>\n",
              "      <td>0</td>\n",
              "      <td>0</td>\n",
              "      <td>0</td>\n",
              "      <td>0</td>\n",
              "      <td>0</td>\n",
              "      <td>0</td>\n",
              "      <td>0</td>\n",
              "      <td>0</td>\n",
              "      <td>0</td>\n",
              "      <td>0</td>\n",
              "    </tr>\n",
              "    <tr>\n",
              "      <th>2</th>\n",
              "      <td>15</td>\n",
              "      <td>1</td>\n",
              "      <td>0.2</td>\n",
              "      <td>7</td>\n",
              "      <td>13</td>\n",
              "      <td>13</td>\n",
              "      <td>164</td>\n",
              "      <td>197</td>\n",
              "      <td>0.0</td>\n",
              "      <td>0.0</td>\n",
              "      <td>0.0</td>\n",
              "      <td>0.0</td>\n",
              "      <td>1.0</td>\n",
              "      <td>68.0</td>\n",
              "      <td>3</td>\n",
              "      <td>13</td>\n",
              "      <td>1</td>\n",
              "      <td>11</td>\n",
              "      <td>3</td>\n",
              "      <td>1</td>\n",
              "      <td>123</td>\n",
              "      <td>127</td>\n",
              "      <td>143</td>\n",
              "      <td>82</td>\n",
              "      <td>198</td>\n",
              "      <td>1</td>\n",
              "      <td>3</td>\n",
              "      <td>1</td>\n",
              "      <td>23</td>\n",
              "      <td>11</td>\n",
              "      <td>0</td>\n",
              "      <td>0</td>\n",
              "      <td>0</td>\n",
              "      <td>0</td>\n",
              "      <td>0</td>\n",
              "      <td>0</td>\n",
              "      <td>0</td>\n",
              "      <td>0</td>\n",
              "      <td>0</td>\n",
              "      <td>0</td>\n",
              "      <td>0</td>\n",
              "      <td>8</td>\n",
              "      <td>0</td>\n",
              "    </tr>\n",
              "    <tr>\n",
              "      <th>3</th>\n",
              "      <td>15</td>\n",
              "      <td>1</td>\n",
              "      <td>0.3</td>\n",
              "      <td>7</td>\n",
              "      <td>13</td>\n",
              "      <td>13</td>\n",
              "      <td>164</td>\n",
              "      <td>197</td>\n",
              "      <td>0.0</td>\n",
              "      <td>1.0</td>\n",
              "      <td>1.0</td>\n",
              "      <td>0.0</td>\n",
              "      <td>2.0</td>\n",
              "      <td>68.0</td>\n",
              "      <td>10</td>\n",
              "      <td>13</td>\n",
              "      <td>2</td>\n",
              "      <td>6</td>\n",
              "      <td>14</td>\n",
              "      <td>1</td>\n",
              "      <td>20</td>\n",
              "      <td>76</td>\n",
              "      <td>66</td>\n",
              "      <td>219</td>\n",
              "      <td>186</td>\n",
              "      <td>1</td>\n",
              "      <td>1</td>\n",
              "      <td>2</td>\n",
              "      <td>9</td>\n",
              "      <td>35</td>\n",
              "      <td>0</td>\n",
              "      <td>0</td>\n",
              "      <td>0</td>\n",
              "      <td>0</td>\n",
              "      <td>0</td>\n",
              "      <td>0</td>\n",
              "      <td>0</td>\n",
              "      <td>0</td>\n",
              "      <td>0</td>\n",
              "      <td>0</td>\n",
              "      <td>0</td>\n",
              "      <td>1</td>\n",
              "      <td>0</td>\n",
              "    </tr>\n",
              "    <tr>\n",
              "      <th>4</th>\n",
              "      <td>15</td>\n",
              "      <td>1</td>\n",
              "      <td>0.3</td>\n",
              "      <td>7</td>\n",
              "      <td>13</td>\n",
              "      <td>13</td>\n",
              "      <td>164</td>\n",
              "      <td>197</td>\n",
              "      <td>0.0</td>\n",
              "      <td>1.0</td>\n",
              "      <td>1.0</td>\n",
              "      <td>0.0</td>\n",
              "      <td>2.0</td>\n",
              "      <td>68.0</td>\n",
              "      <td>3</td>\n",
              "      <td>13</td>\n",
              "      <td>0</td>\n",
              "      <td>16</td>\n",
              "      <td>8</td>\n",
              "      <td>1</td>\n",
              "      <td>137</td>\n",
              "      <td>104</td>\n",
              "      <td>75</td>\n",
              "      <td>104</td>\n",
              "      <td>136</td>\n",
              "      <td>1</td>\n",
              "      <td>2</td>\n",
              "      <td>2</td>\n",
              "      <td>33</td>\n",
              "      <td>9</td>\n",
              "      <td>0</td>\n",
              "      <td>0</td>\n",
              "      <td>0</td>\n",
              "      <td>0</td>\n",
              "      <td>0</td>\n",
              "      <td>0</td>\n",
              "      <td>0</td>\n",
              "      <td>0</td>\n",
              "      <td>0</td>\n",
              "      <td>0</td>\n",
              "      <td>0</td>\n",
              "      <td>0</td>\n",
              "      <td>0</td>\n",
              "    </tr>\n",
              "    <tr>\n",
              "      <th>...</th>\n",
              "      <td>...</td>\n",
              "      <td>...</td>\n",
              "      <td>...</td>\n",
              "      <td>...</td>\n",
              "      <td>...</td>\n",
              "      <td>...</td>\n",
              "      <td>...</td>\n",
              "      <td>...</td>\n",
              "      <td>...</td>\n",
              "      <td>...</td>\n",
              "      <td>...</td>\n",
              "      <td>...</td>\n",
              "      <td>...</td>\n",
              "      <td>...</td>\n",
              "      <td>...</td>\n",
              "      <td>...</td>\n",
              "      <td>...</td>\n",
              "      <td>...</td>\n",
              "      <td>...</td>\n",
              "      <td>...</td>\n",
              "      <td>...</td>\n",
              "      <td>...</td>\n",
              "      <td>...</td>\n",
              "      <td>...</td>\n",
              "      <td>...</td>\n",
              "      <td>...</td>\n",
              "      <td>...</td>\n",
              "      <td>...</td>\n",
              "      <td>...</td>\n",
              "      <td>...</td>\n",
              "      <td>...</td>\n",
              "      <td>...</td>\n",
              "      <td>...</td>\n",
              "      <td>...</td>\n",
              "      <td>...</td>\n",
              "      <td>...</td>\n",
              "      <td>...</td>\n",
              "      <td>...</td>\n",
              "      <td>...</td>\n",
              "      <td>...</td>\n",
              "      <td>...</td>\n",
              "      <td>...</td>\n",
              "      <td>...</td>\n",
              "    </tr>\n",
              "    <tr>\n",
              "      <th>75403</th>\n",
              "      <td>8</td>\n",
              "      <td>1</td>\n",
              "      <td>6.2</td>\n",
              "      <td>13</td>\n",
              "      <td>7</td>\n",
              "      <td>4</td>\n",
              "      <td>193</td>\n",
              "      <td>20</td>\n",
              "      <td>1.0</td>\n",
              "      <td>0.0</td>\n",
              "      <td>1.0</td>\n",
              "      <td>1.0</td>\n",
              "      <td>44.0</td>\n",
              "      <td>47.0</td>\n",
              "      <td>3</td>\n",
              "      <td>4</td>\n",
              "      <td>1</td>\n",
              "      <td>1</td>\n",
              "      <td>1</td>\n",
              "      <td>1</td>\n",
              "      <td>1</td>\n",
              "      <td>1</td>\n",
              "      <td>1</td>\n",
              "      <td>2</td>\n",
              "      <td>1</td>\n",
              "      <td>1</td>\n",
              "      <td>1</td>\n",
              "      <td>2</td>\n",
              "      <td>1</td>\n",
              "      <td>1</td>\n",
              "      <td>0</td>\n",
              "      <td>0</td>\n",
              "      <td>0</td>\n",
              "      <td>0</td>\n",
              "      <td>0</td>\n",
              "      <td>0</td>\n",
              "      <td>0</td>\n",
              "      <td>0</td>\n",
              "      <td>0</td>\n",
              "      <td>0</td>\n",
              "      <td>0</td>\n",
              "      <td>0</td>\n",
              "      <td>0</td>\n",
              "    </tr>\n",
              "    <tr>\n",
              "      <th>75404</th>\n",
              "      <td>8</td>\n",
              "      <td>1</td>\n",
              "      <td>6.6</td>\n",
              "      <td>13</td>\n",
              "      <td>7</td>\n",
              "      <td>4</td>\n",
              "      <td>193</td>\n",
              "      <td>20</td>\n",
              "      <td>0.0</td>\n",
              "      <td>0.0</td>\n",
              "      <td>0.0</td>\n",
              "      <td>1.0</td>\n",
              "      <td>47.0</td>\n",
              "      <td>47.0</td>\n",
              "      <td>4</td>\n",
              "      <td>4</td>\n",
              "      <td>2</td>\n",
              "      <td>1</td>\n",
              "      <td>1</td>\n",
              "      <td>1</td>\n",
              "      <td>238</td>\n",
              "      <td>154</td>\n",
              "      <td>267</td>\n",
              "      <td>26</td>\n",
              "      <td>271</td>\n",
              "      <td>1</td>\n",
              "      <td>1</td>\n",
              "      <td>1</td>\n",
              "      <td>2</td>\n",
              "      <td>1</td>\n",
              "      <td>0</td>\n",
              "      <td>0</td>\n",
              "      <td>0</td>\n",
              "      <td>0</td>\n",
              "      <td>0</td>\n",
              "      <td>0</td>\n",
              "      <td>0</td>\n",
              "      <td>0</td>\n",
              "      <td>0</td>\n",
              "      <td>0</td>\n",
              "      <td>0</td>\n",
              "      <td>1</td>\n",
              "      <td>0</td>\n",
              "    </tr>\n",
              "    <tr>\n",
              "      <th>75405</th>\n",
              "      <td>8</td>\n",
              "      <td>1</td>\n",
              "      <td>6.6</td>\n",
              "      <td>13</td>\n",
              "      <td>7</td>\n",
              "      <td>4</td>\n",
              "      <td>193</td>\n",
              "      <td>20</td>\n",
              "      <td>0.0</td>\n",
              "      <td>0.0</td>\n",
              "      <td>0.0</td>\n",
              "      <td>1.0</td>\n",
              "      <td>47.0</td>\n",
              "      <td>47.0</td>\n",
              "      <td>10</td>\n",
              "      <td>4</td>\n",
              "      <td>3</td>\n",
              "      <td>8</td>\n",
              "      <td>13</td>\n",
              "      <td>1</td>\n",
              "      <td>207</td>\n",
              "      <td>42</td>\n",
              "      <td>13</td>\n",
              "      <td>193</td>\n",
              "      <td>16</td>\n",
              "      <td>1</td>\n",
              "      <td>1</td>\n",
              "      <td>1</td>\n",
              "      <td>45</td>\n",
              "      <td>13</td>\n",
              "      <td>0</td>\n",
              "      <td>0</td>\n",
              "      <td>0</td>\n",
              "      <td>0</td>\n",
              "      <td>0</td>\n",
              "      <td>0</td>\n",
              "      <td>0</td>\n",
              "      <td>0</td>\n",
              "      <td>0</td>\n",
              "      <td>0</td>\n",
              "      <td>0</td>\n",
              "      <td>1</td>\n",
              "      <td>0</td>\n",
              "    </tr>\n",
              "    <tr>\n",
              "      <th>75406</th>\n",
              "      <td>8</td>\n",
              "      <td>1</td>\n",
              "      <td>6.6</td>\n",
              "      <td>13</td>\n",
              "      <td>7</td>\n",
              "      <td>4</td>\n",
              "      <td>193</td>\n",
              "      <td>20</td>\n",
              "      <td>0.0</td>\n",
              "      <td>0.0</td>\n",
              "      <td>0.0</td>\n",
              "      <td>1.0</td>\n",
              "      <td>47.0</td>\n",
              "      <td>47.0</td>\n",
              "      <td>3</td>\n",
              "      <td>4</td>\n",
              "      <td>0</td>\n",
              "      <td>4</td>\n",
              "      <td>11</td>\n",
              "      <td>1</td>\n",
              "      <td>62</td>\n",
              "      <td>20</td>\n",
              "      <td>251</td>\n",
              "      <td>111</td>\n",
              "      <td>277</td>\n",
              "      <td>1</td>\n",
              "      <td>1</td>\n",
              "      <td>1</td>\n",
              "      <td>2</td>\n",
              "      <td>1</td>\n",
              "      <td>0</td>\n",
              "      <td>0</td>\n",
              "      <td>0</td>\n",
              "      <td>0</td>\n",
              "      <td>0</td>\n",
              "      <td>0</td>\n",
              "      <td>0</td>\n",
              "      <td>0</td>\n",
              "      <td>0</td>\n",
              "      <td>0</td>\n",
              "      <td>0</td>\n",
              "      <td>0</td>\n",
              "      <td>0</td>\n",
              "    </tr>\n",
              "    <tr>\n",
              "      <th>75407</th>\n",
              "      <td>8</td>\n",
              "      <td>1</td>\n",
              "      <td>6.6</td>\n",
              "      <td>13</td>\n",
              "      <td>7</td>\n",
              "      <td>4</td>\n",
              "      <td>193</td>\n",
              "      <td>20</td>\n",
              "      <td>0.0</td>\n",
              "      <td>0.0</td>\n",
              "      <td>0.0</td>\n",
              "      <td>1.0</td>\n",
              "      <td>47.0</td>\n",
              "      <td>47.0</td>\n",
              "      <td>3</td>\n",
              "      <td>4</td>\n",
              "      <td>1</td>\n",
              "      <td>1</td>\n",
              "      <td>1</td>\n",
              "      <td>1</td>\n",
              "      <td>1</td>\n",
              "      <td>1</td>\n",
              "      <td>1</td>\n",
              "      <td>2</td>\n",
              "      <td>1</td>\n",
              "      <td>1</td>\n",
              "      <td>1</td>\n",
              "      <td>2</td>\n",
              "      <td>1</td>\n",
              "      <td>1</td>\n",
              "      <td>0</td>\n",
              "      <td>0</td>\n",
              "      <td>0</td>\n",
              "      <td>0</td>\n",
              "      <td>0</td>\n",
              "      <td>0</td>\n",
              "      <td>0</td>\n",
              "      <td>0</td>\n",
              "      <td>0</td>\n",
              "      <td>0</td>\n",
              "      <td>0</td>\n",
              "      <td>0</td>\n",
              "      <td>0</td>\n",
              "    </tr>\n",
              "  </tbody>\n",
              "</table>\n",
              "<p>75408 rows × 43 columns</p>\n",
              "</div>"
            ],
            "text/plain": [
              "       venue  innings  ball  ...  5+ Innings Wickets  Catches Taken  Stumpings Made\n",
              "0         15        1   0.2  ...                   0              1               0\n",
              "1         15        1   0.2  ...                   0              0               0\n",
              "2         15        1   0.2  ...                   0              8               0\n",
              "3         15        1   0.3  ...                   0              1               0\n",
              "4         15        1   0.3  ...                   0              0               0\n",
              "...      ...      ...   ...  ...                 ...            ...             ...\n",
              "75403      8        1   6.2  ...                   0              0               0\n",
              "75404      8        1   6.6  ...                   0              1               0\n",
              "75405      8        1   6.6  ...                   0              1               0\n",
              "75406      8        1   6.6  ...                   0              0               0\n",
              "75407      8        1   6.6  ...                   0              0               0\n",
              "\n",
              "[75408 rows x 43 columns]"
            ]
          },
          "metadata": {
            "tags": []
          },
          "execution_count": 17
        }
      ]
    },
    {
      "cell_type": "code",
      "metadata": {
        "id": "Okiamn0VBm2y"
      },
      "source": [
        "# Feature enginneering.\n",
        "\n",
        "X = new_ipl.drop('y',axis=1).values\n",
        "y = new_ipl['y'].values"
      ],
      "execution_count": 18,
      "outputs": []
    },
    {
      "cell_type": "code",
      "metadata": {
        "id": "r8GwQ5o8Bm2y"
      },
      "source": [
        "from sklearn.model_selection import train_test_split"
      ],
      "execution_count": 19,
      "outputs": []
    },
    {
      "cell_type": "code",
      "metadata": {
        "id": "dDfrzsXOBm2z"
      },
      "source": [
        "X_train, X_test, y_train, y_test = train_test_split(X, y, test_size=0.33, random_state=42)"
      ],
      "execution_count": 20,
      "outputs": []
    },
    {
      "cell_type": "code",
      "metadata": {
        "id": "AwmhB9LhBm2z"
      },
      "source": [
        "from sklearn.preprocessing import MinMaxScaler"
      ],
      "execution_count": 21,
      "outputs": []
    },
    {
      "cell_type": "code",
      "metadata": {
        "id": "2ycu6HFkBm2z"
      },
      "source": [
        "# Scaling the data using MinMaxScaler which is important when we deal with neural nets\n",
        "\n",
        "scaler = MinMaxScaler()"
      ],
      "execution_count": 22,
      "outputs": []
    },
    {
      "cell_type": "code",
      "metadata": {
        "id": "r5b_dn71Bm2z"
      },
      "source": [
        "X_train = scaler.fit_transform(X_train)"
      ],
      "execution_count": 23,
      "outputs": []
    },
    {
      "cell_type": "code",
      "metadata": {
        "id": "DrTMFG_dBm20"
      },
      "source": [
        "# Can't fit the X_test because it should not be scaled as it is to be predicted\n",
        "\n",
        "X_test = scaler.transform(X_test)"
      ],
      "execution_count": 24,
      "outputs": []
    },
    {
      "cell_type": "code",
      "metadata": {
        "id": "a7itA9CYBm20"
      },
      "source": [
        "from tensorflow.keras.models import Sequential\n",
        "from tensorflow.keras.layers import Dense,Dropout"
      ],
      "execution_count": 25,
      "outputs": []
    },
    {
      "cell_type": "code",
      "metadata": {
        "colab": {
          "base_uri": "https://localhost:8080/"
        },
        "id": "6w4ixnFbBm20",
        "outputId": "70741de8-fa64-4524-ec57-9f6e321ccf51"
      },
      "source": [
        "X_train.shape"
      ],
      "execution_count": 26,
      "outputs": [
        {
          "output_type": "execute_result",
          "data": {
            "text/plain": [
              "(50523, 42)"
            ]
          },
          "metadata": {
            "tags": []
          },
          "execution_count": 26
        }
      ]
    },
    {
      "cell_type": "code",
      "metadata": {
        "id": "JFrEzj49Bm20"
      },
      "source": [
        "from tensorflow.keras.callbacks import EarlyStopping"
      ],
      "execution_count": 27,
      "outputs": []
    },
    {
      "cell_type": "code",
      "metadata": {
        "id": "wUkFzmtcBm21"
      },
      "source": [
        "# Early stopping is done to avoid overfitting.\n",
        "# Previous I did the prediction without using early stopping and it gave a really bad score! \n",
        "# What early stopping basically does is, it stops calculating the losses when 'val_loss' increases than 'loss'. Val_loss curve \n",
        "# should always be below val curve. \n",
        "\n",
        "early_stop = EarlyStopping(monitor='val_loss',patience=25,verbose=1, mode='min',)"
      ],
      "execution_count": 28,
      "outputs": []
    },
    {
      "cell_type": "code",
      "metadata": {
        "id": "hnjT0OstBm21"
      },
      "source": [
        "model = Sequential()\n",
        "\n",
        "model.add(Dense(43, activation='relu'))\n",
        "model.add(Dropout(0.5))\n",
        "\n",
        "model.add(Dense(22, activation='relu'))\n",
        "model.add(Dropout(0.5))\n",
        "\n",
        "model.add(Dense(11, activation='relu'))\n",
        "model.add(Dropout(0.5))\n",
        "\n",
        "model.add(Dense(1))\n",
        "\n",
        "model.compile(optimizer='adam', loss='mse')\n",
        "# used loss=mse(mean squared error) because it a regression task."
      ],
      "execution_count": 29,
      "outputs": []
    },
    {
      "cell_type": "code",
      "metadata": {
        "scrolled": true,
        "colab": {
          "base_uri": "https://localhost:8080/"
        },
        "id": "W2aAjKp_Bm21",
        "outputId": "74e3746b-02ea-4d97-da59-98f49bab8d23"
      },
      "source": [
        "model.fit(x=X_train, y=y_train, epochs=400, validation_data=(X_test,y_test),callbacks=[early_stop] )"
      ],
      "execution_count": 30,
      "outputs": [
        {
          "output_type": "stream",
          "text": [
            "Epoch 1/400\n",
            "1579/1579 [==============================] - 3s 2ms/step - loss: 1276.8818 - val_loss: 322.4352\n",
            "Epoch 2/400\n",
            "1579/1579 [==============================] - 2s 2ms/step - loss: 628.6983 - val_loss: 171.9886\n",
            "Epoch 3/400\n",
            "1579/1579 [==============================] - 2s 2ms/step - loss: 543.2011 - val_loss: 164.2901\n",
            "Epoch 4/400\n",
            "1579/1579 [==============================] - 2s 2ms/step - loss: 487.1844 - val_loss: 137.8250\n",
            "Epoch 5/400\n",
            "1579/1579 [==============================] - 2s 2ms/step - loss: 450.8375 - val_loss: 132.4895\n",
            "Epoch 6/400\n",
            "1579/1579 [==============================] - 2s 2ms/step - loss: 413.9493 - val_loss: 147.3582\n",
            "Epoch 7/400\n",
            "1579/1579 [==============================] - 2s 2ms/step - loss: 397.5118 - val_loss: 132.9803\n",
            "Epoch 8/400\n",
            "1579/1579 [==============================] - 2s 1ms/step - loss: 370.3343 - val_loss: 140.2229\n",
            "Epoch 9/400\n",
            "1579/1579 [==============================] - 2s 2ms/step - loss: 350.5078 - val_loss: 117.4139\n",
            "Epoch 10/400\n",
            "1579/1579 [==============================] - 2s 2ms/step - loss: 328.1766 - val_loss: 95.2189\n",
            "Epoch 11/400\n",
            "1579/1579 [==============================] - 2s 2ms/step - loss: 316.1772 - val_loss: 109.2296\n",
            "Epoch 12/400\n",
            "1579/1579 [==============================] - 2s 2ms/step - loss: 293.9954 - val_loss: 112.5568\n",
            "Epoch 13/400\n",
            "1579/1579 [==============================] - 2s 2ms/step - loss: 285.9409 - val_loss: 125.0504\n",
            "Epoch 14/400\n",
            "1579/1579 [==============================] - 2s 2ms/step - loss: 270.4816 - val_loss: 106.0945\n",
            "Epoch 15/400\n",
            "1579/1579 [==============================] - 2s 2ms/step - loss: 256.0173 - val_loss: 110.1022\n",
            "Epoch 16/400\n",
            "1579/1579 [==============================] - 2s 2ms/step - loss: 241.9432 - val_loss: 121.4751\n",
            "Epoch 17/400\n",
            "1579/1579 [==============================] - 2s 2ms/step - loss: 230.4983 - val_loss: 94.2376\n",
            "Epoch 18/400\n",
            "1579/1579 [==============================] - 2s 2ms/step - loss: 216.6168 - val_loss: 98.3908\n",
            "Epoch 19/400\n",
            "1579/1579 [==============================] - 2s 2ms/step - loss: 210.0030 - val_loss: 98.5785\n",
            "Epoch 20/400\n",
            "1579/1579 [==============================] - 2s 2ms/step - loss: 198.1609 - val_loss: 90.5974\n",
            "Epoch 21/400\n",
            "1579/1579 [==============================] - 2s 2ms/step - loss: 186.2954 - val_loss: 104.2336\n",
            "Epoch 22/400\n",
            "1579/1579 [==============================] - 2s 2ms/step - loss: 177.0247 - val_loss: 100.1213\n",
            "Epoch 23/400\n",
            "1579/1579 [==============================] - 2s 2ms/step - loss: 173.8800 - val_loss: 84.2832\n",
            "Epoch 24/400\n",
            "1579/1579 [==============================] - 2s 2ms/step - loss: 165.7400 - val_loss: 89.5928\n",
            "Epoch 25/400\n",
            "1579/1579 [==============================] - 2s 2ms/step - loss: 155.4162 - val_loss: 90.3988\n",
            "Epoch 26/400\n",
            "1579/1579 [==============================] - 2s 2ms/step - loss: 147.7915 - val_loss: 83.6808\n",
            "Epoch 27/400\n",
            "1579/1579 [==============================] - 2s 2ms/step - loss: 142.8406 - val_loss: 90.9531\n",
            "Epoch 28/400\n",
            "1579/1579 [==============================] - 2s 1ms/step - loss: 138.3183 - val_loss: 81.9984\n",
            "Epoch 29/400\n",
            "1579/1579 [==============================] - 2s 2ms/step - loss: 131.7325 - val_loss: 83.3131\n",
            "Epoch 30/400\n",
            "1579/1579 [==============================] - 2s 2ms/step - loss: 129.9253 - val_loss: 79.1947\n",
            "Epoch 31/400\n",
            "1579/1579 [==============================] - 2s 2ms/step - loss: 123.4425 - val_loss: 83.8717\n",
            "Epoch 32/400\n",
            "1579/1579 [==============================] - 2s 2ms/step - loss: 119.7194 - val_loss: 90.9037\n",
            "Epoch 33/400\n",
            "1579/1579 [==============================] - 2s 2ms/step - loss: 117.0293 - val_loss: 83.1621\n",
            "Epoch 34/400\n",
            "1579/1579 [==============================] - 2s 1ms/step - loss: 112.5000 - val_loss: 83.0545\n",
            "Epoch 35/400\n",
            "1579/1579 [==============================] - 2s 2ms/step - loss: 110.5978 - val_loss: 83.4767\n",
            "Epoch 36/400\n",
            "1579/1579 [==============================] - 2s 2ms/step - loss: 110.2739 - val_loss: 79.6794\n",
            "Epoch 37/400\n",
            "1579/1579 [==============================] - 2s 2ms/step - loss: 108.2390 - val_loss: 85.8892\n",
            "Epoch 38/400\n",
            "1579/1579 [==============================] - 2s 2ms/step - loss: 108.1650 - val_loss: 83.1865\n",
            "Epoch 39/400\n",
            "1579/1579 [==============================] - 3s 2ms/step - loss: 106.3396 - val_loss: 86.3014\n",
            "Epoch 40/400\n",
            "1579/1579 [==============================] - 2s 2ms/step - loss: 103.2718 - val_loss: 80.8640\n",
            "Epoch 41/400\n",
            "1579/1579 [==============================] - 2s 2ms/step - loss: 104.4716 - val_loss: 82.9022\n",
            "Epoch 42/400\n",
            "1579/1579 [==============================] - 3s 2ms/step - loss: 102.2152 - val_loss: 84.0654\n",
            "Epoch 43/400\n",
            "1579/1579 [==============================] - 2s 2ms/step - loss: 102.6989 - val_loss: 85.6910\n",
            "Epoch 44/400\n",
            "1579/1579 [==============================] - 2s 2ms/step - loss: 103.9337 - val_loss: 85.5968\n",
            "Epoch 45/400\n",
            "1579/1579 [==============================] - 2s 2ms/step - loss: 102.4280 - val_loss: 85.9854\n",
            "Epoch 46/400\n",
            "1579/1579 [==============================] - 2s 2ms/step - loss: 102.4934 - val_loss: 85.3514\n",
            "Epoch 47/400\n",
            "1579/1579 [==============================] - 2s 2ms/step - loss: 102.8375 - val_loss: 86.9603\n",
            "Epoch 48/400\n",
            "1579/1579 [==============================] - 2s 2ms/step - loss: 103.6732 - val_loss: 85.7703\n",
            "Epoch 49/400\n",
            "1579/1579 [==============================] - 2s 2ms/step - loss: 103.5215 - val_loss: 86.5706\n",
            "Epoch 50/400\n",
            "1579/1579 [==============================] - 2s 2ms/step - loss: 103.2011 - val_loss: 86.4922\n",
            "Epoch 51/400\n",
            "1579/1579 [==============================] - 2s 2ms/step - loss: 102.4099 - val_loss: 86.9463\n",
            "Epoch 52/400\n",
            "1579/1579 [==============================] - 2s 2ms/step - loss: 101.7039 - val_loss: 87.5018\n",
            "Epoch 53/400\n",
            "1579/1579 [==============================] - 2s 2ms/step - loss: 101.9723 - val_loss: 83.2566\n",
            "Epoch 54/400\n",
            "1579/1579 [==============================] - 2s 2ms/step - loss: 103.0206 - val_loss: 83.3457\n",
            "Epoch 55/400\n",
            "1579/1579 [==============================] - 2s 2ms/step - loss: 101.7858 - val_loss: 85.9898\n",
            "Epoch 00055: early stopping\n"
          ],
          "name": "stdout"
        },
        {
          "output_type": "execute_result",
          "data": {
            "text/plain": [
              "<tensorflow.python.keras.callbacks.History at 0x7fba74d8e350>"
            ]
          },
          "metadata": {
            "tags": []
          },
          "execution_count": 30
        }
      ]
    },
    {
      "cell_type": "code",
      "metadata": {
        "id": "YOFU0n_DBm22"
      },
      "source": [
        "model_losses = pd.DataFrame(model.history.history)"
      ],
      "execution_count": 31,
      "outputs": []
    },
    {
      "cell_type": "code",
      "metadata": {
        "colab": {
          "base_uri": "https://localhost:8080/",
          "height": 281
        },
        "id": "ULspI9PMBm22",
        "outputId": "dbecc383-3485-45a0-ae24-9d54de1d7be8"
      },
      "source": [
        "model_losses.plot()"
      ],
      "execution_count": 32,
      "outputs": [
        {
          "output_type": "execute_result",
          "data": {
            "text/plain": [
              "<matplotlib.axes._subplots.AxesSubplot at 0x7fba3a015d10>"
            ]
          },
          "metadata": {
            "tags": []
          },
          "execution_count": 32
        },
        {
          "output_type": "display_data",
          "data": {
            "image/png": "[encoded data removed]",
            "text/plain": [
              "<Figure size 432x288 with 1 Axes>"
            ]
          },
          "metadata": {
            "tags": [],
            "needs_background": "light"
          }
        }
      ]
    },
    {
      "cell_type": "markdown",
      "metadata": {
        "id": "WfjlMOKFBm22"
      },
      "source": [
        "#### Lower the val_loss, better are the results! Here we got a perfect behaviour of our model."
      ]
    },
    {
      "cell_type": "code",
      "metadata": {
        "id": "WghtVQZJBm22"
      },
      "source": [
        "predictions = model.predict(X_test)"
      ],
      "execution_count": 33,
      "outputs": []
    },
    {
      "cell_type": "code",
      "metadata": {
        "id": "SoKBulU-Bm22"
      },
      "source": [
        "from sklearn.metrics import mean_absolute_error,mean_squared_error,accuracy_score"
      ],
      "execution_count": 34,
      "outputs": []
    },
    {
      "cell_type": "code",
      "metadata": {
        "colab": {
          "base_uri": "https://localhost:8080/"
        },
        "id": "SVsweJfVBm23",
        "outputId": "bd42e4f2-74a3-4b7c-bfb0-aa20041eb62a"
      },
      "source": [
        "mean_absolute_error(y_test,predictions)\n",
        "# Mean absolute error regression loss"
      ],
      "execution_count": 35,
      "outputs": [
        {
          "output_type": "execute_result",
          "data": {
            "text/plain": [
              "7.012203757523868"
            ]
          },
          "metadata": {
            "tags": []
          },
          "execution_count": 35
        }
      ]
    },
    {
      "cell_type": "code",
      "metadata": {
        "colab": {
          "base_uri": "https://localhost:8080/"
        },
        "id": "VH9Fb07nBm23",
        "outputId": "dcdd8037-d1bd-4a68-d3a7-fbac76973d0d"
      },
      "source": [
        "np.sqrt(mean_squared_error(y_test,predictions))\n",
        "# Mean squared error regression loss."
      ],
      "execution_count": 36,
      "outputs": [
        {
          "output_type": "execute_result",
          "data": {
            "text/plain": [
              "9.273070301707504"
            ]
          },
          "metadata": {
            "tags": []
          },
          "execution_count": 36
        }
      ]
    },
    {
      "cell_type": "code",
      "metadata": {
        "colab": {
          "base_uri": "https://localhost:8080/",
          "height": 390
        },
        "id": "cU7aY1tLBm23",
        "outputId": "70bc4bcc-d3e8-4ece-bdac-52b2c75596a8"
      },
      "source": [
        "plt.figure(figsize=(10,6))\n",
        "plt.scatter(y_test,predictions)"
      ],
      "execution_count": 37,
      "outputs": [
        {
          "output_type": "execute_result",
          "data": {
            "text/plain": [
              "<matplotlib.collections.PathCollection at 0x7fba39fb9fd0>"
            ]
          },
          "metadata": {
            "tags": []
          },
          "execution_count": 37
        },
        {
          "output_type": "display_data",
          "data": {
            "image/png": "[encoded data removed]",
            "text/plain": [
              "<Figure size 720x432 with 1 Axes>"
            ]
          },
          "metadata": {
            "tags": [],
            "needs_background": "light"
          }
        }
      ]
    },
    {
      "cell_type": "code",
      "metadata": {
        "id": "Zswg884IBm24"
      },
      "source": [
        "sample = pd.DataFrame(predictions,columns=['Predict'])\n",
        "sample['Actual']=y_test"
      ],
      "execution_count": 38,
      "outputs": []
    },
    {
      "cell_type": "code",
      "metadata": {
        "colab": {
          "base_uri": "https://localhost:8080/",
          "height": 345
        },
        "id": "1ukKNH6nBm24",
        "outputId": "819226ab-0af4-4dc5-c720-676e590a36b6"
      },
      "source": [
        "sample.head(10)"
      ],
      "execution_count": 39,
      "outputs": [
        {
          "output_type": "execute_result",
          "data": {
            "text/html": [
              "<div>\n",
              "<style scoped>\n",
              "    .dataframe tbody tr th:only-of-type {\n",
              "        vertical-align: middle;\n",
              "    }\n",
              "\n",
              "    .dataframe tbody tr th {\n",
              "        vertical-align: top;\n",
              "    }\n",
              "\n",
              "    .dataframe thead th {\n",
              "        text-align: right;\n",
              "    }\n",
              "</style>\n",
              "<table border=\"1\" class=\"dataframe\">\n",
              "  <thead>\n",
              "    <tr style=\"text-align: right;\">\n",
              "      <th></th>\n",
              "      <th>Predict</th>\n",
              "      <th>Actual</th>\n",
              "    </tr>\n",
              "  </thead>\n",
              "  <tbody>\n",
              "    <tr>\n",
              "      <th>0</th>\n",
              "      <td>47.197250</td>\n",
              "      <td>49.0</td>\n",
              "    </tr>\n",
              "    <tr>\n",
              "      <th>1</th>\n",
              "      <td>46.264263</td>\n",
              "      <td>47.0</td>\n",
              "    </tr>\n",
              "    <tr>\n",
              "      <th>2</th>\n",
              "      <td>46.270660</td>\n",
              "      <td>37.0</td>\n",
              "    </tr>\n",
              "    <tr>\n",
              "      <th>3</th>\n",
              "      <td>60.583206</td>\n",
              "      <td>63.0</td>\n",
              "    </tr>\n",
              "    <tr>\n",
              "      <th>4</th>\n",
              "      <td>51.556149</td>\n",
              "      <td>57.0</td>\n",
              "    </tr>\n",
              "    <tr>\n",
              "      <th>5</th>\n",
              "      <td>55.445324</td>\n",
              "      <td>59.0</td>\n",
              "    </tr>\n",
              "    <tr>\n",
              "      <th>6</th>\n",
              "      <td>46.984745</td>\n",
              "      <td>37.0</td>\n",
              "    </tr>\n",
              "    <tr>\n",
              "      <th>7</th>\n",
              "      <td>46.453808</td>\n",
              "      <td>47.0</td>\n",
              "    </tr>\n",
              "    <tr>\n",
              "      <th>8</th>\n",
              "      <td>50.913296</td>\n",
              "      <td>45.0</td>\n",
              "    </tr>\n",
              "    <tr>\n",
              "      <th>9</th>\n",
              "      <td>50.043526</td>\n",
              "      <td>56.0</td>\n",
              "    </tr>\n",
              "  </tbody>\n",
              "</table>\n",
              "</div>"
            ],
            "text/plain": [
              "     Predict  Actual\n",
              "0  47.197250    49.0\n",
              "1  46.264263    47.0\n",
              "2  46.270660    37.0\n",
              "3  60.583206    63.0\n",
              "4  51.556149    57.0\n",
              "5  55.445324    59.0\n",
              "6  46.984745    37.0\n",
              "7  46.453808    47.0\n",
              "8  50.913296    45.0\n",
              "9  50.043526    56.0"
            ]
          },
          "metadata": {
            "tags": []
          },
          "execution_count": 39
        }
      ]
    },
    {
      "cell_type": "code",
      "metadata": {
        "id": "f_sjNLYVGx2D"
      },
      "source": [
        ""
      ],
      "execution_count": null,
      "outputs": []
    }
  ]
}